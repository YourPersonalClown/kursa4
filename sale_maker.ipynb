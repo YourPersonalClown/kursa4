{
 "cells": [
  {
   "cell_type": "code",
   "execution_count": null,
   "metadata": {},
   "outputs": [],
   "source": []
  },
  {
   "cell_type": "code",
   "execution_count": 1,
   "metadata": {},
   "outputs": [],
   "source": [
    "import undetected_chromedriver\n",
    "# import time\n",
    "\n",
    "\n",
    "from selenium.webdriver.support.ui import WebDriverWait\n",
    "\n",
    "from selenium.webdriver.common.by import By\n",
    "from selenium.webdriver.support import expected_conditions as EC\n",
    "from selenium.webdriver.common.keys import Keys\n"
   ]
  },
  {
   "cell_type": "code",
   "execution_count": null,
   "metadata": {},
   "outputs": [],
   "source": []
  },
  {
   "cell_type": "code",
   "execution_count": 5,
   "metadata": {},
   "outputs": [],
   "source": [
    "\n",
    "driver = undetected_chromedriver.Chrome()\n",
    "wait = WebDriverWait(driver, 10, 0.5)\n"
   ]
  },
  {
   "cell_type": "code",
   "execution_count": 2,
   "metadata": {},
   "outputs": [],
   "source": [
    "# driver.get(\"https://www.mvideo.ru/\") # открываем днс\n",
    "# mvideo_search = driver.find_element(By.XPATH,'//*[@id=\"1\"]')\n",
    "\n",
    "# mvideo_search.send_keys('iphone 11 128G')\n",
    "# mvideo_search"
   ]
  },
  {
   "cell_type": "code",
   "execution_count": 6,
   "metadata": {},
   "outputs": [
    {
     "ename": "TimeoutException",
     "evalue": "Message: \nStacktrace:\n\tGetHandleVerifier [0x00BB72A3+45731]\n\t(No symbol) [0x00B42D51]\n\t(No symbol) [0x00A3880D]\n\t(No symbol) [0x00A6B940]\n\t(No symbol) [0x00A6BE0B]\n\t(No symbol) [0x00A9D1F2]\n\t(No symbol) [0x00A88024]\n\t(No symbol) [0x00A9B7A2]\n\t(No symbol) [0x00A87DD6]\n\t(No symbol) [0x00A631F6]\n\t(No symbol) [0x00A6439D]\n\tGetHandleVerifier [0x00EC0716+3229462]\n\tGetHandleVerifier [0x00F084C8+3523784]\n\tGetHandleVerifier [0x00F0214C+3498316]\n\tGetHandleVerifier [0x00C41680+611968]\n\t(No symbol) [0x00B4CCCC]\n\t(No symbol) [0x00B48DF8]\n\t(No symbol) [0x00B48F1D]\n\t(No symbol) [0x00B3B2C7]\n\tBaseThreadInitThunk [0x75767BA9+25]\n\tRtlInitializeExceptionChain [0x7739BD3B+107]\n\tRtlClearBits [0x7739BCBF+191]\n",
     "output_type": "error",
     "traceback": [
      "\u001b[1;31m---------------------------------------------------------------------------\u001b[0m",
      "\u001b[1;31mTimeoutException\u001b[0m                          Traceback (most recent call last)",
      "\u001b[1;32mc:\\git_proj\\kursa4\\sale_maker.ipynb Ячейка 6\u001b[0m line \u001b[0;36m2\n\u001b[0;32m      <a href='vscode-notebook-cell:/c%3A/git_proj/kursa4/sale_maker.ipynb#W4sZmlsZQ%3D%3D?line=0'>1</a>\u001b[0m driver\u001b[39m.\u001b[39mget(\u001b[39m'\u001b[39m\u001b[39mhttps://www.mvideo.ru/product-list-page?q=iphone 11\u001b[39m\u001b[39m'\u001b[39m)\n\u001b[1;32m----> <a href='vscode-notebook-cell:/c%3A/git_proj/kursa4/sale_maker.ipynb#W4sZmlsZQ%3D%3D?line=1'>2</a>\u001b[0m element \u001b[39m=\u001b[39m wait\u001b[39m.\u001b[39;49muntil(EC\u001b[39m.\u001b[39;49mvisibility_of_element_located((\n\u001b[0;32m      <a href='vscode-notebook-cell:/c%3A/git_proj/kursa4/sale_maker.ipynb#W4sZmlsZQ%3D%3D?line=2'>3</a>\u001b[0m     By\u001b[39m.\u001b[39;49mCLASS_NAME,\n\u001b[0;32m      <a href='vscode-notebook-cell:/c%3A/git_proj/kursa4/sale_maker.ipynb#W4sZmlsZQ%3D%3D?line=3'>4</a>\u001b[0m     \u001b[39m'\u001b[39;49m\u001b[39mproduct-cards-row\u001b[39;49m\u001b[39m'\u001b[39;49m\n\u001b[0;32m      <a href='vscode-notebook-cell:/c%3A/git_proj/kursa4/sale_maker.ipynb#W4sZmlsZQ%3D%3D?line=4'>5</a>\u001b[0m  )))\n\u001b[0;32m      <a href='vscode-notebook-cell:/c%3A/git_proj/kursa4/sale_maker.ipynb#W4sZmlsZQ%3D%3D?line=6'>7</a>\u001b[0m \u001b[39m# driver.find_elements()\u001b[39;00m\n",
      "File \u001b[1;32mc:\\git_proj\\kursa4\\env\\Lib\\site-packages\\selenium\\webdriver\\support\\wait.py:101\u001b[0m, in \u001b[0;36mWebDriverWait.until\u001b[1;34m(self, method, message)\u001b[0m\n\u001b[0;32m     99\u001b[0m     \u001b[39mif\u001b[39;00m time\u001b[39m.\u001b[39mmonotonic() \u001b[39m>\u001b[39m end_time:\n\u001b[0;32m    100\u001b[0m         \u001b[39mbreak\u001b[39;00m\n\u001b[1;32m--> 101\u001b[0m \u001b[39mraise\u001b[39;00m TimeoutException(message, screen, stacktrace)\n",
      "\u001b[1;31mTimeoutException\u001b[0m: Message: \nStacktrace:\n\tGetHandleVerifier [0x00BB72A3+45731]\n\t(No symbol) [0x00B42D51]\n\t(No symbol) [0x00A3880D]\n\t(No symbol) [0x00A6B940]\n\t(No symbol) [0x00A6BE0B]\n\t(No symbol) [0x00A9D1F2]\n\t(No symbol) [0x00A88024]\n\t(No symbol) [0x00A9B7A2]\n\t(No symbol) [0x00A87DD6]\n\t(No symbol) [0x00A631F6]\n\t(No symbol) [0x00A6439D]\n\tGetHandleVerifier [0x00EC0716+3229462]\n\tGetHandleVerifier [0x00F084C8+3523784]\n\tGetHandleVerifier [0x00F0214C+3498316]\n\tGetHandleVerifier [0x00C41680+611968]\n\t(No symbol) [0x00B4CCCC]\n\t(No symbol) [0x00B48DF8]\n\t(No symbol) [0x00B48F1D]\n\t(No symbol) [0x00B3B2C7]\n\tBaseThreadInitThunk [0x75767BA9+25]\n\tRtlInitializeExceptionChain [0x7739BD3B+107]\n\tRtlClearBits [0x7739BCBF+191]\n"
     ]
    }
   ],
   "source": [
    "driver.get('https://www.mvideo.ru/product-list-page?q=iphone 11')\n",
    "element = wait.until(EC.visibility_of_element_located((\n",
    "    By.CLASS_NAME,\n",
    "    'product-cards-row'\n",
    " )))\n",
    "\n",
    "# driver.find_elements()"
   ]
  },
  {
   "cell_type": "code",
   "execution_count": 27,
   "metadata": {},
   "outputs": [
    {
     "data": {
      "text/plain": [
       "'52 499 ₽'"
      ]
     },
     "execution_count": 27,
     "metadata": {},
     "output_type": "execute_result"
    }
   ],
   "source": [
    "element.find_elements(By.CLASS_NAME, 'price__main-value')[0].text"
   ]
  },
  {
   "cell_type": "code",
   "execution_count": 20,
   "metadata": {},
   "outputs": [
    {
     "ename": "NoSuchElementException",
     "evalue": "Message: no such element: No node with given id found\n  (Session info: chrome=119.0.6045.160); For documentation on this error, please visit: https://www.selenium.dev/documentation/webdriver/troubleshooting/errors#no-such-element-exception\nStacktrace:\n\tGetHandleVerifier [0x010172A3+45731]\n\t(No symbol) [0x00FA2D51]\n\t(No symbol) [0x00E9880D]\n\t(No symbol) [0x00E8B090]\n\t(No symbol) [0x00E898EE]\n\t(No symbol) [0x00E89FFA]\n\t(No symbol) [0x00E89F98]\n\t(No symbol) [0x00EA2C65]\n\t(No symbol) [0x00E9CB76]\n\t(No symbol) [0x00E9B838]\n\t(No symbol) [0x00E9DB1A]\n\t(No symbol) [0x00E9DBC0]\n\t(No symbol) [0x00ECBAA7]\n\t(No symbol) [0x00ECBE0B]\n\t(No symbol) [0x00EC4D61]\n\t(No symbol) [0x00EE8024]\n\t(No symbol) [0x00EC4A4E]\n\t(No symbol) [0x00EE8254]\n\t(No symbol) [0x00EFB7A2]\n\t(No symbol) [0x00EE7DD6]\n\t(No symbol) [0x00EC31F6]\n\t(No symbol) [0x00EC439D]\n\tGetHandleVerifier [0x01320716+3229462]\n\tGetHandleVerifier [0x013684C8+3523784]\n\tGetHandleVerifier [0x0136214C+3498316]\n\tGetHandleVerifier [0x010A1680+611968]\n\t(No symbol) [0x00FACCCC]\n\t(No symbol) [0x00FA8DF8]\n\t(No symbol) [0x00FA8F1D]\n\t(No symbol) [0x00F9B2C7]\n\tBaseThreadInitThunk [0x75767BA9+25]\n\tRtlInitializeExceptionChain [0x7739BD3B+107]\n\tRtlClearBits [0x7739BCBF+191]\n",
     "output_type": "error",
     "traceback": [
      "\u001b[1;31m---------------------------------------------------------------------------\u001b[0m",
      "\u001b[1;31mNoSuchElementException\u001b[0m                    Traceback (most recent call last)",
      "\u001b[1;32mc:\\git_proj\\kursa4\\sale_maker.ipynb Ячейка 6\u001b[0m line \u001b[0;36m1\n\u001b[1;32m----> <a href='vscode-notebook-cell:/c%3A/git_proj/kursa4/sale_maker.ipynb#X11sZmlsZQ%3D%3D?line=0'>1</a>\u001b[0m element \u001b[39m=\u001b[39m element\u001b[39m.\u001b[39;49mfind_elements(\n\u001b[0;32m      <a href='vscode-notebook-cell:/c%3A/git_proj/kursa4/sale_maker.ipynb#X11sZmlsZQ%3D%3D?line=1'>2</a>\u001b[0m     By\u001b[39m.\u001b[39;49mCLASS_NAME,\n\u001b[0;32m      <a href='vscode-notebook-cell:/c%3A/git_proj/kursa4/sale_maker.ipynb#X11sZmlsZQ%3D%3D?line=2'>3</a>\u001b[0m     \u001b[39m'\u001b[39;49m\u001b[39mproduct-cards-row\u001b[39;49m\u001b[39m'\u001b[39;49m\n\u001b[0;32m      <a href='vscode-notebook-cell:/c%3A/git_proj/kursa4/sale_maker.ipynb#X11sZmlsZQ%3D%3D?line=3'>4</a>\u001b[0m  )\n",
      "File \u001b[1;32mc:\\git_proj\\kursa4\\env\\Lib\\site-packages\\selenium\\webdriver\\remote\\webelement.py:438\u001b[0m, in \u001b[0;36mWebElement.find_elements\u001b[1;34m(self, by, value)\u001b[0m\n\u001b[0;32m    435\u001b[0m     by \u001b[39m=\u001b[39m By\u001b[39m.\u001b[39mCSS_SELECTOR\n\u001b[0;32m    436\u001b[0m     value \u001b[39m=\u001b[39m \u001b[39mf\u001b[39m\u001b[39m'\u001b[39m\u001b[39m[name=\u001b[39m\u001b[39m\"\u001b[39m\u001b[39m{\u001b[39;00mvalue\u001b[39m}\u001b[39;00m\u001b[39m\"\u001b[39m\u001b[39m]\u001b[39m\u001b[39m'\u001b[39m\n\u001b[1;32m--> 438\u001b[0m \u001b[39mreturn\u001b[39;00m \u001b[39mself\u001b[39;49m\u001b[39m.\u001b[39;49m_execute(Command\u001b[39m.\u001b[39;49mFIND_CHILD_ELEMENTS, {\u001b[39m\"\u001b[39;49m\u001b[39musing\u001b[39;49m\u001b[39m\"\u001b[39;49m: by, \u001b[39m\"\u001b[39;49m\u001b[39mvalue\u001b[39;49m\u001b[39m\"\u001b[39;49m: value})[\u001b[39m\"\u001b[39m\u001b[39mvalue\u001b[39m\u001b[39m\"\u001b[39m]\n",
      "File \u001b[1;32mc:\\git_proj\\kursa4\\env\\Lib\\site-packages\\selenium\\webdriver\\remote\\webelement.py:394\u001b[0m, in \u001b[0;36mWebElement._execute\u001b[1;34m(self, command, params)\u001b[0m\n\u001b[0;32m    392\u001b[0m     params \u001b[39m=\u001b[39m {}\n\u001b[0;32m    393\u001b[0m params[\u001b[39m\"\u001b[39m\u001b[39mid\u001b[39m\u001b[39m\"\u001b[39m] \u001b[39m=\u001b[39m \u001b[39mself\u001b[39m\u001b[39m.\u001b[39m_id\n\u001b[1;32m--> 394\u001b[0m \u001b[39mreturn\u001b[39;00m \u001b[39mself\u001b[39;49m\u001b[39m.\u001b[39;49m_parent\u001b[39m.\u001b[39;49mexecute(command, params)\n",
      "File \u001b[1;32mc:\\git_proj\\kursa4\\env\\Lib\\site-packages\\selenium\\webdriver\\remote\\webdriver.py:347\u001b[0m, in \u001b[0;36mWebDriver.execute\u001b[1;34m(self, driver_command, params)\u001b[0m\n\u001b[0;32m    345\u001b[0m response \u001b[39m=\u001b[39m \u001b[39mself\u001b[39m\u001b[39m.\u001b[39mcommand_executor\u001b[39m.\u001b[39mexecute(driver_command, params)\n\u001b[0;32m    346\u001b[0m \u001b[39mif\u001b[39;00m response:\n\u001b[1;32m--> 347\u001b[0m     \u001b[39mself\u001b[39;49m\u001b[39m.\u001b[39;49merror_handler\u001b[39m.\u001b[39;49mcheck_response(response)\n\u001b[0;32m    348\u001b[0m     response[\u001b[39m\"\u001b[39m\u001b[39mvalue\u001b[39m\u001b[39m\"\u001b[39m] \u001b[39m=\u001b[39m \u001b[39mself\u001b[39m\u001b[39m.\u001b[39m_unwrap_value(response\u001b[39m.\u001b[39mget(\u001b[39m\"\u001b[39m\u001b[39mvalue\u001b[39m\u001b[39m\"\u001b[39m, \u001b[39mNone\u001b[39;00m))\n\u001b[0;32m    349\u001b[0m     \u001b[39mreturn\u001b[39;00m response\n",
      "File \u001b[1;32mc:\\git_proj\\kursa4\\env\\Lib\\site-packages\\selenium\\webdriver\\remote\\errorhandler.py:229\u001b[0m, in \u001b[0;36mErrorHandler.check_response\u001b[1;34m(self, response)\u001b[0m\n\u001b[0;32m    227\u001b[0m         alert_text \u001b[39m=\u001b[39m value[\u001b[39m\"\u001b[39m\u001b[39malert\u001b[39m\u001b[39m\"\u001b[39m]\u001b[39m.\u001b[39mget(\u001b[39m\"\u001b[39m\u001b[39mtext\u001b[39m\u001b[39m\"\u001b[39m)\n\u001b[0;32m    228\u001b[0m     \u001b[39mraise\u001b[39;00m exception_class(message, screen, stacktrace, alert_text)  \u001b[39m# type: ignore[call-arg]  # mypy is not smart enough here\u001b[39;00m\n\u001b[1;32m--> 229\u001b[0m \u001b[39mraise\u001b[39;00m exception_class(message, screen, stacktrace)\n",
      "\u001b[1;31mNoSuchElementException\u001b[0m: Message: no such element: No node with given id found\n  (Session info: chrome=119.0.6045.160); For documentation on this error, please visit: https://www.selenium.dev/documentation/webdriver/troubleshooting/errors#no-such-element-exception\nStacktrace:\n\tGetHandleVerifier [0x010172A3+45731]\n\t(No symbol) [0x00FA2D51]\n\t(No symbol) [0x00E9880D]\n\t(No symbol) [0x00E8B090]\n\t(No symbol) [0x00E898EE]\n\t(No symbol) [0x00E89FFA]\n\t(No symbol) [0x00E89F98]\n\t(No symbol) [0x00EA2C65]\n\t(No symbol) [0x00E9CB76]\n\t(No symbol) [0x00E9B838]\n\t(No symbol) [0x00E9DB1A]\n\t(No symbol) [0x00E9DBC0]\n\t(No symbol) [0x00ECBAA7]\n\t(No symbol) [0x00ECBE0B]\n\t(No symbol) [0x00EC4D61]\n\t(No symbol) [0x00EE8024]\n\t(No symbol) [0x00EC4A4E]\n\t(No symbol) [0x00EE8254]\n\t(No symbol) [0x00EFB7A2]\n\t(No symbol) [0x00EE7DD6]\n\t(No symbol) [0x00EC31F6]\n\t(No symbol) [0x00EC439D]\n\tGetHandleVerifier [0x01320716+3229462]\n\tGetHandleVerifier [0x013684C8+3523784]\n\tGetHandleVerifier [0x0136214C+3498316]\n\tGetHandleVerifier [0x010A1680+611968]\n\t(No symbol) [0x00FACCCC]\n\t(No symbol) [0x00FA8DF8]\n\t(No symbol) [0x00FA8F1D]\n\t(No symbol) [0x00F9B2C7]\n\tBaseThreadInitThunk [0x75767BA9+25]\n\tRtlInitializeExceptionChain [0x7739BD3B+107]\n\tRtlClearBits [0x7739BCBF+191]\n"
     ]
    }
   ],
   "source": [
    "\n",
    "element = element.find_elements(\n",
    "    By.CLASS_NAME,\n",
    "    'product-cards-row'\n",
    " )"
   ]
  },
  {
   "cell_type": "code",
   "execution_count": 19,
   "metadata": {},
   "outputs": [
    {
     "data": {
      "text/plain": [
       "'Чёрная Пятница\\nСмартфон Apple iPhone 11 64GB nanoSim/eSim Black\\n4.7\\n53 отзыва\\n52 499 ₽\\n57 999\\n+1 575 Бонусных рублей\\nВ корзину\\nЧёрная Пятница\\nСмартфон Apple iPhone 11 128GB nanoSim/eSim Black\\n4.9\\n83 отзыва\\n62 499 ₽\\n66 499\\n+1 875 Бонусных рублей\\nВ корзину\\nЧёрная Пятница\\nСмартфон Apple iPhone 11 128GB nanoSim/eSim White\\n5.0\\n39 отзывов\\n62 499 ₽\\n66 499\\n+1 875 Бонусных рублей\\nВ корзину\\nСмартфон Apple iPhone 11 128GB Black\\n4.0\\n1 отзыв\\n69 990 ₽\\n+2 100 Бонусных рублей\\nВ корзину\\nИП Бирюзов Анатолий Иванович'"
      ]
     },
     "execution_count": 19,
     "metadata": {},
     "output_type": "execute_result"
    }
   ],
   "source": [
    "\n"
   ]
  },
  {
   "cell_type": "code",
   "execution_count": 12,
   "metadata": {},
   "outputs": [],
   "source": [
    "# driver.execute_script(\"window.open('chrome://newtab');\")\n",
    "\n",
    "driver.switch_to.window(driver.window_handles[-1])\n",
    "\n",
    "driver.get('https://www.mvideo.ru/')\n"
   ]
  }
 ],
 "metadata": {
  "kernelspec": {
   "display_name": "base",
   "language": "python",
   "name": "python3"
  },
  "language_info": {
   "codemirror_mode": {
    "name": "ipython",
    "version": 3
   },
   "file_extension": ".py",
   "mimetype": "text/x-python",
   "name": "python",
   "nbconvert_exporter": "python",
   "pygments_lexer": "ipython3",
   "version": "3.11.4"
  }
 },
 "nbformat": 4,
 "nbformat_minor": 2
}
