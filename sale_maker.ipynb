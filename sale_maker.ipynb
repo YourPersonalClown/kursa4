{
 "cells": [
  {
   "cell_type": "code",
   "execution_count": null,
   "metadata": {},
   "outputs": [],
   "source": []
  },
  {
   "cell_type": "code",
   "execution_count": 35,
   "metadata": {},
   "outputs": [],
   "source": [
    "import undetected_chromedriver\n",
    "# import time\n",
    "\n",
    "from selenium import webdriver\n",
    "from selenium.webdriver.support.ui import WebDriverWait\n",
    "\n",
    "from selenium.webdriver.common.by import By\n",
    "from selenium.webdriver.support import expected_conditions as EC\n",
    "from selenium.common.exceptions import NoSuchElementException\n",
    "from selenium.webdriver.common.keys import Keys\n",
    "from random import randint\n",
    "from time import sleep as pause\n",
    "import openpyxl"
   ]
  },
  {
   "cell_type": "code",
   "execution_count": 36,
   "metadata": {},
   "outputs": [],
   "source": [
    "book = openpyxl.open('products.xlsx', read_only=False)\n",
    "sheet = book.active"
   ]
  },
  {
   "cell_type": "code",
   "execution_count": 37,
   "metadata": {},
   "outputs": [],
   "source": [
    "\n",
    "driver = undetected_chromedriver.Chrome()\n",
    "wait = WebDriverWait(driver, 10, 0.5)\n",
    "prodict = {}\n"
   ]
  },
  {
   "cell_type": "code",
   "execution_count": 10,
   "metadata": {},
   "outputs": [],
   "source": [
    "prod_name = 'xbox gamepad'.replace(' ','+')\n",
    "\n",
    "\n",
    "driver.get(f'https://www.dns-shop.ru/search/?q={prod_name}')\n",
    "\n",
    "driver.set_page_load_timeout(10)\n",
    "\n",
    "\n",
    "\n",
    "# element = wait.until(EC.visibility_of_element_located((\n",
    "#     By.CLASS_NAME,\n",
    "#     'container category-child'\n",
    "#  )))\n",
    "# prodict['user_promt'] = prod_name\n",
    "\n",
    "# driver.find_elements(By.CLASS_NAME,'product-buy__price')[0].text"
   ]
  },
  {
   "cell_type": "code",
   "execution_count": 16,
   "metadata": {},
   "outputs": [
    {
     "data": {
      "text/plain": [
       "'19 499 ₽'"
      ]
     },
     "execution_count": 16,
     "metadata": {},
     "output_type": "execute_result"
    }
   ],
   "source": [
    "final_price = driver.find_elements(By.CLASS_NAME, 'product-buy__price')\n",
    "final_price[0].text"
   ]
  },
  {
   "cell_type": "code",
   "execution_count": 21,
   "metadata": {},
   "outputs": [
    {
     "data": {
      "text/plain": [
       "'https://www.dns-shop.ru/product/40fb2fe2f123ed20/gejmpad-besprovodnojprovodnoj-microsoft-xbox-elite-series-2-cernyj/'"
      ]
     },
     "execution_count": 21,
     "metadata": {},
     "output_type": "execute_result"
    }
   ],
   "source": [
    "final_name =  driver.find_elements(By.CLASS_NAME, 'catalog-product__name')[0].text\n",
    "final_price = driver.find_elements(By.CLASS_NAME, 'product-buy__price').text\n",
    "final_link =  driver.find_elements(By.CLASS_NAME, 'catalog-product__name')[0].get_attribute('href')\n",
    "final_name\n",
    "final_link"
   ]
  },
  {
   "cell_type": "code",
   "execution_count": 42,
   "metadata": {},
   "outputs": [
    {
     "name": "stdout",
     "output_type": "stream",
     "text": [
      "{'user_promt': 'nintendo switch lite gray ', 'mvideo_name': 'Портативная игровая консоль Nintendo Switch Lite [5.5\", IPS, 1280 x 720, Touchscreen, 32 ГБ, Wi-Fi , BT, синий]', 'mvideo_link': 'https://www.dns-shop.ru/product/bc97bd47e7a0ed20/portativnaa-igrovaa-konsol-nintendo-switch-lite/', 'mvideo_price': 21999}\n",
      "{'user_promt': 'logitech g305', 'mvideo_name': 'Мышь беспроводная Logitech G305 LIGHTSPEED [910-005282] черный [12000 dpi, светодиодный, USB Type-A, кнопки - 6]', 'mvideo_link': 'https://www.dns-shop.ru/product/6a5882e15ff63330/mys-besprovodnaa-logitech-g305-lightspeed-910-005282-cernyj/', 'mvideo_price': 3999}\n",
      "{'user_promt': 'sony a7', 'mvideo_name': 'Беззеркальная камера Sony Alpha 7С (ILCE-7C) Kit 28-60mm черная [25.3 Мп, 35.6 x 23.8 мм, CMOS, диафрагма: f/4-5.6, 100-51200 ISO, 10 кадр./сек, Wi-Fi, NFC, экран - поворотный, сенсорный]', 'mvideo_link': 'https://www.dns-shop.ru/product/7fb1eda82af83332/bezzerkalnaa-kamera-sony-alpha-7s-ilce-7c-kit-28-60mm-cernaa/', 'mvideo_price': 150999}\n"
     ]
    }
   ],
   "source": [
    "for row in range(2,sheet.max_row+1):\n",
    "    prod  = sheet[row][0].value\n",
    "    print(get_price_dns(prod, driver))"
   ]
  },
  {
   "cell_type": "code",
   "execution_count": 40,
   "metadata": {},
   "outputs": [],
   "source": [
    "# driver.get(\"https://www.mvideo.ru/\") # открываем днс\n",
    "# mvideo_search = driver.find_element(By.XPATH,'//*[@id=\"1\"]')\n",
    "\n",
    "# mvideo_search.send_keys('iphone 11 128G')\n",
    "# mvideo_search\n",
    "\n",
    "def get_price_dns(prod_name, driver):\n",
    "    # wait = WebDriverWait(driver, 10, 0.5)\n",
    "    prodict = {}\n",
    "    # prod_name = 'xbox gamepad'.replace(' ','+')\n",
    "\n",
    "\n",
    "    driver.get(f'https://www.dns-shop.ru/search/?q={prod_name}')\n",
    "    # pause(randint(7, 11))\n",
    "    driver.set_page_load_timeout(10)\n",
    "    \n",
    "    final_name =  driver.find_elements(By.CLASS_NAME, 'catalog-product__name')[0].text\n",
    "    final_price = driver.find_elements(By.CLASS_NAME, 'product-buy__price')[0].text\n",
    "    final_link =  driver.find_elements(By.CLASS_NAME, 'catalog-product__name')[0].get_attribute('href')\n",
    "\n",
    "\n",
    "    prodict['user_promt'] = prod_name\n",
    "    prodict['dns_name'] = final_name\n",
    "    prodict['dns_link'] = final_link\n",
    "    prodict['dns_price'] = int(final_price[:-2].replace(' ',''))\n",
    "\n",
    "\n",
    "    return prodict"
   ]
  },
  {
   "cell_type": "code",
   "execution_count": 32,
   "metadata": {},
   "outputs": [],
   "source": [
    "\n",
    "\n"
   ]
  },
  {
   "cell_type": "code",
   "execution_count": 33,
   "metadata": {},
   "outputs": [],
   "source": [
    "prod_name = 'nintendo switch lite gray'\n",
    "driver.get(f'https://www.mvideo.ru/product-list-page?q={prod_name}')\n",
    "element = wait.until(EC.visibility_of_element_located((\n",
    "    By.CLASS_NAME,\n",
    "    'product-cards-row'\n",
    " )))\n",
    "prodict['user_promt'] = prod_name\n",
    "# driver.find_elements()"
   ]
  },
  {
   "cell_type": "code",
   "execution_count": 41,
   "metadata": {},
   "outputs": [
    {
     "ename": "ValueError",
     "evalue": "invalid literal for int() with base 10: 'https://www.mvideo.ru/products/igrovaya-konsol-nintendo-switch-lite-sinii-400796'",
     "output_type": "error",
     "traceback": [
      "\u001b[1;31m---------------------------------------------------------------------------\u001b[0m",
      "\u001b[1;31mValueError\u001b[0m                                Traceback (most recent call last)",
      "Cell \u001b[1;32mIn[41], line 7\u001b[0m\n\u001b[0;32m      4\u001b[0m final_price \u001b[38;5;241m=\u001b[39m element\u001b[38;5;241m.\u001b[39mfind_elements(By\u001b[38;5;241m.\u001b[39mCLASS_NAME, \u001b[38;5;124m'\u001b[39m\u001b[38;5;124mproduct-title__text\u001b[39m\u001b[38;5;124m'\u001b[39m)[\u001b[38;5;241m1\u001b[39m]\u001b[38;5;241m.\u001b[39mget_attribute(\u001b[38;5;124m'\u001b[39m\u001b[38;5;124mhref\u001b[39m\u001b[38;5;124m'\u001b[39m)\n\u001b[0;32m      6\u001b[0m prodict[\u001b[38;5;124m'\u001b[39m\u001b[38;5;124mmvideo_name\u001b[39m\u001b[38;5;124m'\u001b[39m] \u001b[38;5;241m=\u001b[39m final_name\n\u001b[1;32m----> 7\u001b[0m prodict[\u001b[38;5;124m'\u001b[39m\u001b[38;5;124mmvideo_price\u001b[39m\u001b[38;5;124m'\u001b[39m] \u001b[38;5;241m=\u001b[39m \u001b[38;5;28;43mint\u001b[39;49m\u001b[43m(\u001b[49m\u001b[43mfinal_price\u001b[49m\u001b[43m[\u001b[49m\u001b[43m:\u001b[49m\u001b[38;5;241;43m-\u001b[39;49m\u001b[38;5;241;43m2\u001b[39;49m\u001b[43m]\u001b[49m\u001b[38;5;241;43m.\u001b[39;49m\u001b[43mreplace\u001b[49m\u001b[43m(\u001b[49m\u001b[38;5;124;43m'\u001b[39;49m\u001b[38;5;124;43m \u001b[39;49m\u001b[38;5;124;43m'\u001b[39;49m\u001b[43m,\u001b[49m\u001b[38;5;124;43m'\u001b[39;49m\u001b[38;5;124;43m'\u001b[39;49m\u001b[43m)\u001b[49m\u001b[43m)\u001b[49m\n\u001b[0;32m     10\u001b[0m prodict\n",
      "\u001b[1;31mValueError\u001b[0m: invalid literal for int() with base 10: 'https://www.mvideo.ru/products/igrovaya-konsol-nintendo-switch-lite-sinii-400796'"
     ]
    }
   ],
   "source": [
    "final_name =  element.find_elements(By.CLASS_NAME, 'product-title__text')[0].text\n",
    "final_price = element.find_elements(By.CLASS_NAME, 'price__main-value')[0].text\n",
    "\n",
    "final_link = element.find_elements(By.CLASS_NAME, 'product-title__text')[1].get_attribute('href')\n",
    "\n",
    "prodict['mvideo_name'] = final_name\n",
    "prodict['mvideo_link'] = final_link\n",
    "prodict['mvideo_price'] = int(final_price[:-2].replace(' ',''))\n",
    "\n",
    "\n",
    "prodict"
   ]
  },
  {
   "cell_type": "code",
   "execution_count": null,
   "metadata": {},
   "outputs": [],
   "source": [
    "\n"
   ]
  },
  {
   "cell_type": "code",
   "execution_count": 12,
   "metadata": {},
   "outputs": [],
   "source": []
  }
 ],
 "metadata": {
  "kernelspec": {
   "display_name": "base",
   "language": "python",
   "name": "python3"
  },
  "language_info": {
   "codemirror_mode": {
    "name": "ipython",
    "version": 3
   },
   "file_extension": ".py",
   "mimetype": "text/x-python",
   "name": "python",
   "nbconvert_exporter": "python",
   "pygments_lexer": "ipython3",
   "version": "3.10.11"
  }
 },
 "nbformat": 4,
 "nbformat_minor": 2
}
