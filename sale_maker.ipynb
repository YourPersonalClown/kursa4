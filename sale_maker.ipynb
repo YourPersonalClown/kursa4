{
 "cells": [
  {
   "cell_type": "code",
   "execution_count": null,
   "metadata": {},
   "outputs": [],
   "source": []
  },
  {
   "cell_type": "code",
   "execution_count": 2,
   "metadata": {},
   "outputs": [],
   "source": [
    "import undetected_chromedriver\n",
    "# import time\n",
    "\n",
    "\n",
    "from selenium.webdriver.support.ui import WebDriverWait\n",
    "\n",
    "from selenium.webdriver.common.by import By\n",
    "from selenium.webdriver.support import expected_conditions as EC\n",
    "from selenium.webdriver.common.keys import Keys\n",
    "\n",
    "import openpyxl"
   ]
  },
  {
   "cell_type": "code",
   "execution_count": 2,
   "metadata": {},
   "outputs": [],
   "source": [
    "book = openpyxl.open('products.xlsx', read_only=False)\n",
    "sheet = book.active"
   ]
  },
  {
   "cell_type": "code",
   "execution_count": 5,
   "metadata": {},
   "outputs": [],
   "source": [
    "\n",
    "driver = undetected_chromedriver.Chrome()\n",
    "wait = WebDriverWait(driver, 10, 0.5)\n",
    "prodict = {}\n"
   ]
  },
  {
   "cell_type": "code",
   "execution_count": 9,
   "metadata": {},
   "outputs": [
    {
     "ename": "TimeoutException",
     "evalue": "Message: \nStacktrace:\n\tGetHandleVerifier [0x00806E73+174291]\n\t(No symbol) [0x00730AC1]\n\t(No symbol) [0x00446FF6]\n\t(No symbol) [0x00479876]\n\t(No symbol) [0x00479C2C]\n\t(No symbol) [0x004ABD42]\n\t(No symbol) [0x00497054]\n\t(No symbol) [0x004AA104]\n\t(No symbol) [0x00496DA6]\n\t(No symbol) [0x00471034]\n\t(No symbol) [0x00471F8D]\n\tGetHandleVerifier [0x008A49CC+820268]\n\tsqlite3_dbdata_init [0x00964EBE+652494]\n\tsqlite3_dbdata_init [0x009648D9+650985]\n\tsqlite3_dbdata_init [0x0095962C+605244]\n\tsqlite3_dbdata_init [0x0096586B+654971]\n\t(No symbol) [0x0073FEBC]\n\t(No symbol) [0x00738428]\n\t(No symbol) [0x0073854D]\n\t(No symbol) [0x00725858]\n\tBaseThreadInitThunk [0x76B27BA9+25]\n\tRtlInitializeExceptionChain [0x77BDBD2B+107]\n\tRtlClearBits [0x77BDBCAF+191]\n",
     "output_type": "error",
     "traceback": [
      "\u001b[1;31m---------------------------------------------------------------------------\u001b[0m",
      "\u001b[1;31mTimeoutException\u001b[0m                          Traceback (most recent call last)",
      "Cell \u001b[1;32mIn[9], line 3\u001b[0m\n\u001b[0;32m      1\u001b[0m prod_name \u001b[38;5;241m=\u001b[39m \u001b[38;5;124m'\u001b[39m\u001b[38;5;124mnintendo switch lite gray\u001b[39m\u001b[38;5;124m'\u001b[39m\u001b[38;5;241m.\u001b[39mreplace(\u001b[38;5;124m'\u001b[39m\u001b[38;5;124m \u001b[39m\u001b[38;5;124m'\u001b[39m,\u001b[38;5;124m'\u001b[39m\u001b[38;5;124m+\u001b[39m\u001b[38;5;124m'\u001b[39m)\n\u001b[0;32m      2\u001b[0m driver\u001b[38;5;241m.\u001b[39mget(\u001b[38;5;124mf\u001b[39m\u001b[38;5;124m'\u001b[39m\u001b[38;5;124mhttps://www.dns-shop.ru/search/?q=\u001b[39m\u001b[38;5;132;01m{\u001b[39;00mprod_name\u001b[38;5;132;01m}\u001b[39;00m\u001b[38;5;124m'\u001b[39m)\n\u001b[1;32m----> 3\u001b[0m element \u001b[38;5;241m=\u001b[39m \u001b[43mwait\u001b[49m\u001b[38;5;241;43m.\u001b[39;49m\u001b[43muntil\u001b[49m\u001b[43m(\u001b[49m\u001b[43mEC\u001b[49m\u001b[38;5;241;43m.\u001b[39;49m\u001b[43mvisibility_of_element_located\u001b[49m\u001b[43m(\u001b[49m\u001b[43m(\u001b[49m\n\u001b[0;32m      4\u001b[0m \u001b[43m    \u001b[49m\u001b[43mBy\u001b[49m\u001b[38;5;241;43m.\u001b[39;49m\u001b[43mCLASS_NAME\u001b[49m\u001b[43m,\u001b[49m\n\u001b[0;32m      5\u001b[0m \u001b[43m    \u001b[49m\u001b[38;5;124;43m'\u001b[39;49m\u001b[38;5;124;43mcontainer category-child\u001b[39;49m\u001b[38;5;124;43m'\u001b[39;49m\n\u001b[0;32m      6\u001b[0m \u001b[43m \u001b[49m\u001b[43m)\u001b[49m\u001b[43m)\u001b[49m\u001b[43m)\u001b[49m\n\u001b[0;32m      7\u001b[0m prodict[\u001b[38;5;124m'\u001b[39m\u001b[38;5;124muser_promt\u001b[39m\u001b[38;5;124m'\u001b[39m] \u001b[38;5;241m=\u001b[39m prod_name\n\u001b[0;32m      9\u001b[0m driver\u001b[38;5;241m.\u001b[39mfind_elements(By\u001b[38;5;241m.\u001b[39mCLASS_NAME,\u001b[38;5;124m'\u001b[39m\u001b[38;5;124mproduct-buy__price\u001b[39m\u001b[38;5;124m'\u001b[39m)[\u001b[38;5;241m0\u001b[39m]\u001b[38;5;241m.\u001b[39mtext\n",
      "File \u001b[1;32md:\\playground\\git_dir\\kursa4\\env\\lib\\site-packages\\selenium\\webdriver\\support\\wait.py:105\u001b[0m, in \u001b[0;36mWebDriverWait.until\u001b[1;34m(self, method, message)\u001b[0m\n\u001b[0;32m    103\u001b[0m     \u001b[38;5;28;01mif\u001b[39;00m time\u001b[38;5;241m.\u001b[39mmonotonic() \u001b[38;5;241m>\u001b[39m end_time:\n\u001b[0;32m    104\u001b[0m         \u001b[38;5;28;01mbreak\u001b[39;00m\n\u001b[1;32m--> 105\u001b[0m \u001b[38;5;28;01mraise\u001b[39;00m TimeoutException(message, screen, stacktrace)\n",
      "\u001b[1;31mTimeoutException\u001b[0m: Message: \nStacktrace:\n\tGetHandleVerifier [0x00806E73+174291]\n\t(No symbol) [0x00730AC1]\n\t(No symbol) [0x00446FF6]\n\t(No symbol) [0x00479876]\n\t(No symbol) [0x00479C2C]\n\t(No symbol) [0x004ABD42]\n\t(No symbol) [0x00497054]\n\t(No symbol) [0x004AA104]\n\t(No symbol) [0x00496DA6]\n\t(No symbol) [0x00471034]\n\t(No symbol) [0x00471F8D]\n\tGetHandleVerifier [0x008A49CC+820268]\n\tsqlite3_dbdata_init [0x00964EBE+652494]\n\tsqlite3_dbdata_init [0x009648D9+650985]\n\tsqlite3_dbdata_init [0x0095962C+605244]\n\tsqlite3_dbdata_init [0x0096586B+654971]\n\t(No symbol) [0x0073FEBC]\n\t(No symbol) [0x00738428]\n\t(No symbol) [0x0073854D]\n\t(No symbol) [0x00725858]\n\tBaseThreadInitThunk [0x76B27BA9+25]\n\tRtlInitializeExceptionChain [0x77BDBD2B+107]\n\tRtlClearBits [0x77BDBCAF+191]\n"
     ]
    }
   ],
   "source": [
    "prod_name = 'nintendo switch lite gray'.replace(' ','+')\n",
    "driver.get(f'https://www.dns-shop.ru/search/?q={prod_name}')\n",
    "element = wait.until(EC.visibility_of_element_located((\n",
    "    By.CLASS_NAME,\n",
    "    'container category-child'\n",
    " )))\n",
    "prodict['user_promt'] = prod_name\n",
    "\n",
    "driver.find_elements(By.CLASS_NAME,'product-buy__price')[0].text"
   ]
  },
  {
   "cell_type": "code",
   "execution_count": 49,
   "metadata": {},
   "outputs": [
    {
     "name": "stdout",
     "output_type": "stream",
     "text": [
      "{'user_promt': 'nintendo switch lite gray ', 'mvideo_name': 'Игровая консоль Nintendo Switch Lite серый', 'mvideo_link': 'https://www.mvideo.ru/products/igrovaya-konsol-nintendo-switch-lite-sinii-40079603', 'mvideo_price': 18999}\n",
      "{'user_promt': 'logitech g305', 'mvideo_name': 'Игровая мышь Logitech G305 Lightspeed KDA (910-006053)', 'mvideo_link': 'https://www.mvideo.ru/products/igrovaya-mysh-logitech-g304g305-white-50175520', 'mvideo_price': 4999}\n",
      "{'user_promt': 'sony a7', 'mvideo_name': 'Фотоаппарат системный Sony Alpha A7 Mark III Kit 28-70mm (ILCE-7M3K)', 'mvideo_link': 'https://www.mvideo.ru/products/fotoapparat-sistemnyi-sony-alpha-a7s-body-serebro-400109845', 'mvideo_price': 263390}\n"
     ]
    }
   ],
   "source": [
    "for row in range(2,sheet.max_row+1):\n",
    "    prod  = sheet[row][0].value\n",
    "    print(get_price_mvideo(prod, driver))"
   ]
  },
  {
   "cell_type": "code",
   "execution_count": 43,
   "metadata": {},
   "outputs": [],
   "source": [
    "# driver.get(\"https://www.mvideo.ru/\") # открываем днс\n",
    "# mvideo_search = driver.find_element(By.XPATH,'//*[@id=\"1\"]')\n",
    "\n",
    "# mvideo_search.send_keys('iphone 11 128G')\n",
    "# mvideo_search\n",
    "\n",
    "def get_price_mvideo(prod_name, driver):\n",
    "    wait = WebDriverWait(driver, 10, 0.5)\n",
    "    prodict = {}\n",
    "    driver.get(f'https://www.mvideo.ru/product-list-page?q={prod_name}')\n",
    "    element = wait.until(EC.visibility_of_element_located((\n",
    "    By.CLASS_NAME,\n",
    "    'product-cards-row')))\n",
    "    final_name =  element.find_elements(By.CLASS_NAME, 'product-title__text')[0].text\n",
    "    final_price = element.find_elements(By.CLASS_NAME, 'price__main-value')[0].text\n",
    "    final_link = element.find_elements(By.CLASS_NAME, 'product-title__text')[1].get_attribute('href')\n",
    "\n",
    "\n",
    "    prodict['user_promt'] = prod_name\n",
    "    prodict['mvideo_name'] = final_name\n",
    "    prodict['mvideo_link'] = final_link\n",
    "    prodict['mvideo_price'] = int(final_price[:-2].replace(' ',''))\n",
    "\n",
    "\n",
    "    return prodict"
   ]
  },
  {
   "cell_type": "code",
   "execution_count": 32,
   "metadata": {},
   "outputs": [],
   "source": [
    "\n",
    "\n"
   ]
  },
  {
   "cell_type": "code",
   "execution_count": 33,
   "metadata": {},
   "outputs": [],
   "source": [
    "prod_name = 'nintendo switch lite gray'\n",
    "driver.get(f'https://www.mvideo.ru/product-list-page?q={prod_name}')\n",
    "element = wait.until(EC.visibility_of_element_located((\n",
    "    By.CLASS_NAME,\n",
    "    'product-cards-row'\n",
    " )))\n",
    "prodict['user_promt'] = prod_name\n",
    "# driver.find_elements()"
   ]
  },
  {
   "cell_type": "code",
   "execution_count": 41,
   "metadata": {},
   "outputs": [
    {
     "ename": "ValueError",
     "evalue": "invalid literal for int() with base 10: 'https://www.mvideo.ru/products/igrovaya-konsol-nintendo-switch-lite-sinii-400796'",
     "output_type": "error",
     "traceback": [
      "\u001b[1;31m---------------------------------------------------------------------------\u001b[0m",
      "\u001b[1;31mValueError\u001b[0m                                Traceback (most recent call last)",
      "Cell \u001b[1;32mIn[41], line 7\u001b[0m\n\u001b[0;32m      4\u001b[0m final_price \u001b[38;5;241m=\u001b[39m element\u001b[38;5;241m.\u001b[39mfind_elements(By\u001b[38;5;241m.\u001b[39mCLASS_NAME, \u001b[38;5;124m'\u001b[39m\u001b[38;5;124mproduct-title__text\u001b[39m\u001b[38;5;124m'\u001b[39m)[\u001b[38;5;241m1\u001b[39m]\u001b[38;5;241m.\u001b[39mget_attribute(\u001b[38;5;124m'\u001b[39m\u001b[38;5;124mhref\u001b[39m\u001b[38;5;124m'\u001b[39m)\n\u001b[0;32m      6\u001b[0m prodict[\u001b[38;5;124m'\u001b[39m\u001b[38;5;124mmvideo_name\u001b[39m\u001b[38;5;124m'\u001b[39m] \u001b[38;5;241m=\u001b[39m final_name\n\u001b[1;32m----> 7\u001b[0m prodict[\u001b[38;5;124m'\u001b[39m\u001b[38;5;124mmvideo_price\u001b[39m\u001b[38;5;124m'\u001b[39m] \u001b[38;5;241m=\u001b[39m \u001b[38;5;28;43mint\u001b[39;49m\u001b[43m(\u001b[49m\u001b[43mfinal_price\u001b[49m\u001b[43m[\u001b[49m\u001b[43m:\u001b[49m\u001b[38;5;241;43m-\u001b[39;49m\u001b[38;5;241;43m2\u001b[39;49m\u001b[43m]\u001b[49m\u001b[38;5;241;43m.\u001b[39;49m\u001b[43mreplace\u001b[49m\u001b[43m(\u001b[49m\u001b[38;5;124;43m'\u001b[39;49m\u001b[38;5;124;43m \u001b[39;49m\u001b[38;5;124;43m'\u001b[39;49m\u001b[43m,\u001b[49m\u001b[38;5;124;43m'\u001b[39;49m\u001b[38;5;124;43m'\u001b[39;49m\u001b[43m)\u001b[49m\u001b[43m)\u001b[49m\n\u001b[0;32m     10\u001b[0m prodict\n",
      "\u001b[1;31mValueError\u001b[0m: invalid literal for int() with base 10: 'https://www.mvideo.ru/products/igrovaya-konsol-nintendo-switch-lite-sinii-400796'"
     ]
    }
   ],
   "source": [
    "final_name =  element.find_elements(By.CLASS_NAME, 'product-title__text')[0].text\n",
    "final_price = element.find_elements(By.CLASS_NAME, 'price__main-value')[0].text\n",
    "\n",
    "final_link = element.find_elements(By.CLASS_NAME, 'product-title__text')[1].get_attribute('href')\n",
    "\n",
    "prodict['mvideo_name'] = final_name\n",
    "prodict['mvideo_link'] = final_link\n",
    "prodict['mvideo_price'] = int(final_price[:-2].replace(' ',''))\n",
    "\n",
    "\n",
    "prodict"
   ]
  },
  {
   "cell_type": "code",
   "execution_count": null,
   "metadata": {},
   "outputs": [],
   "source": [
    "\n"
   ]
  },
  {
   "cell_type": "code",
   "execution_count": 12,
   "metadata": {},
   "outputs": [],
   "source": []
  }
 ],
 "metadata": {
  "kernelspec": {
   "display_name": "base",
   "language": "python",
   "name": "python3"
  },
  "language_info": {
   "codemirror_mode": {
    "name": "ipython",
    "version": 3
   },
   "file_extension": ".py",
   "mimetype": "text/x-python",
   "name": "python",
   "nbconvert_exporter": "python",
   "pygments_lexer": "ipython3",
   "version": "3.10.11"
  }
 },
 "nbformat": 4,
 "nbformat_minor": 2
}
