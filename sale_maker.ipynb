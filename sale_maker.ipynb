{
 "cells": [
  {
   "cell_type": "code",
   "execution_count": null,
   "metadata": {},
   "outputs": [],
   "source": []
  },
  {
   "cell_type": "code",
   "execution_count": 3,
   "metadata": {},
   "outputs": [],
   "source": [
    "import undetected_chromedriver\n",
    "# import time\n",
    "from selenium.webdriver.common.by import By\n",
    "from selenium.webdriver.common.keys import Keys\n",
    "\n",
    "driver = undetected_chromedriver.Chrome()\n"
   ]
  },
  {
   "cell_type": "code",
   "execution_count": 20,
   "metadata": {},
   "outputs": [
    {
     "ename": "NoSuchElementException",
     "evalue": "Message: no such element: Unable to locate element: {\"method\":\"xpath\",\"selector\":\"//*[@id=\"1\"]\"}\n  (Session info: chrome=119.0.6045.160); For documentation on this error, please visit: https://www.selenium.dev/documentation/webdriver/troubleshooting/errors#no-such-element-exception\nStacktrace:\n\tGetHandleVerifier [0x004372A3+45731]\n\t(No symbol) [0x003C2D51]\n\t(No symbol) [0x002B880D]\n\t(No symbol) [0x002EB940]\n\t(No symbol) [0x002EBE0B]\n\t(No symbol) [0x0031D1F2]\n\t(No symbol) [0x00308024]\n\t(No symbol) [0x0031B7A2]\n\t(No symbol) [0x00307DD6]\n\t(No symbol) [0x002E31F6]\n\t(No symbol) [0x002E439D]\n\tGetHandleVerifier [0x00740716+3229462]\n\tGetHandleVerifier [0x007884C8+3523784]\n\tGetHandleVerifier [0x0078214C+3498316]\n\tGetHandleVerifier [0x004C1680+611968]\n\t(No symbol) [0x003CCCCC]\n\t(No symbol) [0x003C8DF8]\n\t(No symbol) [0x003C8F1D]\n\t(No symbol) [0x003BB2C7]\n\tBaseThreadInitThunk [0x767F7BA9+25]\n\tRtlInitializeExceptionChain [0x77B2BD2B+107]\n\tRtlClearBits [0x77B2BCAF+191]\n",
     "output_type": "error",
     "traceback": [
      "\u001b[1;31m---------------------------------------------------------------------------\u001b[0m",
      "\u001b[1;31mNoSuchElementException\u001b[0m                    Traceback (most recent call last)",
      "\u001b[1;32md:\\playground\\git_dir\\kursa4\\sale_maker.ipynb Ячейка 3\u001b[0m line \u001b[0;36m2\n\u001b[0;32m      <a href='vscode-notebook-cell:/d%3A/playground/git_dir/kursa4/sale_maker.ipynb#W2sZmlsZQ%3D%3D?line=0'>1</a>\u001b[0m driver\u001b[39m.\u001b[39mget(\u001b[39m\"\u001b[39m\u001b[39mhttps://www.mvideo.ru/\u001b[39m\u001b[39m\"\u001b[39m) \u001b[39m# открываем днс\u001b[39;00m\n\u001b[1;32m----> <a href='vscode-notebook-cell:/d%3A/playground/git_dir/kursa4/sale_maker.ipynb#W2sZmlsZQ%3D%3D?line=1'>2</a>\u001b[0m mvideo_search \u001b[39m=\u001b[39m driver\u001b[39m.\u001b[39;49mfind_element(By\u001b[39m.\u001b[39;49mXPATH,\u001b[39m'\u001b[39;49m\u001b[39m//*[@id=\u001b[39;49m\u001b[39m\"\u001b[39;49m\u001b[39m1\u001b[39;49m\u001b[39m\"\u001b[39;49m\u001b[39m]\u001b[39;49m\u001b[39m'\u001b[39;49m)\n\u001b[0;32m      <a href='vscode-notebook-cell:/d%3A/playground/git_dir/kursa4/sale_maker.ipynb#W2sZmlsZQ%3D%3D?line=3'>4</a>\u001b[0m mvideo_search\u001b[39m.\u001b[39msend_keys(\u001b[39m'\u001b[39m\u001b[39miphone 11 128G\u001b[39m\u001b[39m'\u001b[39m)\n",
      "File \u001b[1;32mc:\\Users\\danie\\AppData\\Local\\Programs\\Python\\Python310\\lib\\site-packages\\selenium\\webdriver\\remote\\webdriver.py:741\u001b[0m, in \u001b[0;36mWebDriver.find_element\u001b[1;34m(self, by, value)\u001b[0m\n\u001b[0;32m    738\u001b[0m     by \u001b[39m=\u001b[39m By\u001b[39m.\u001b[39mCSS_SELECTOR\n\u001b[0;32m    739\u001b[0m     value \u001b[39m=\u001b[39m \u001b[39mf\u001b[39m\u001b[39m'\u001b[39m\u001b[39m[name=\u001b[39m\u001b[39m\"\u001b[39m\u001b[39m{\u001b[39;00mvalue\u001b[39m}\u001b[39;00m\u001b[39m\"\u001b[39m\u001b[39m]\u001b[39m\u001b[39m'\u001b[39m\n\u001b[1;32m--> 741\u001b[0m \u001b[39mreturn\u001b[39;00m \u001b[39mself\u001b[39;49m\u001b[39m.\u001b[39;49mexecute(Command\u001b[39m.\u001b[39;49mFIND_ELEMENT, {\u001b[39m\"\u001b[39;49m\u001b[39musing\u001b[39;49m\u001b[39m\"\u001b[39;49m: by, \u001b[39m\"\u001b[39;49m\u001b[39mvalue\u001b[39;49m\u001b[39m\"\u001b[39;49m: value})[\u001b[39m\"\u001b[39m\u001b[39mvalue\u001b[39m\u001b[39m\"\u001b[39m]\n",
      "File \u001b[1;32mc:\\Users\\danie\\AppData\\Local\\Programs\\Python\\Python310\\lib\\site-packages\\selenium\\webdriver\\remote\\webdriver.py:347\u001b[0m, in \u001b[0;36mWebDriver.execute\u001b[1;34m(self, driver_command, params)\u001b[0m\n\u001b[0;32m    345\u001b[0m response \u001b[39m=\u001b[39m \u001b[39mself\u001b[39m\u001b[39m.\u001b[39mcommand_executor\u001b[39m.\u001b[39mexecute(driver_command, params)\n\u001b[0;32m    346\u001b[0m \u001b[39mif\u001b[39;00m response:\n\u001b[1;32m--> 347\u001b[0m     \u001b[39mself\u001b[39;49m\u001b[39m.\u001b[39;49merror_handler\u001b[39m.\u001b[39;49mcheck_response(response)\n\u001b[0;32m    348\u001b[0m     response[\u001b[39m\"\u001b[39m\u001b[39mvalue\u001b[39m\u001b[39m\"\u001b[39m] \u001b[39m=\u001b[39m \u001b[39mself\u001b[39m\u001b[39m.\u001b[39m_unwrap_value(response\u001b[39m.\u001b[39mget(\u001b[39m\"\u001b[39m\u001b[39mvalue\u001b[39m\u001b[39m\"\u001b[39m, \u001b[39mNone\u001b[39;00m))\n\u001b[0;32m    349\u001b[0m     \u001b[39mreturn\u001b[39;00m response\n",
      "File \u001b[1;32mc:\\Users\\danie\\AppData\\Local\\Programs\\Python\\Python310\\lib\\site-packages\\selenium\\webdriver\\remote\\errorhandler.py:229\u001b[0m, in \u001b[0;36mErrorHandler.check_response\u001b[1;34m(self, response)\u001b[0m\n\u001b[0;32m    227\u001b[0m         alert_text \u001b[39m=\u001b[39m value[\u001b[39m\"\u001b[39m\u001b[39malert\u001b[39m\u001b[39m\"\u001b[39m]\u001b[39m.\u001b[39mget(\u001b[39m\"\u001b[39m\u001b[39mtext\u001b[39m\u001b[39m\"\u001b[39m)\n\u001b[0;32m    228\u001b[0m     \u001b[39mraise\u001b[39;00m exception_class(message, screen, stacktrace, alert_text)  \u001b[39m# type: ignore[call-arg]  # mypy is not smart enough here\u001b[39;00m\n\u001b[1;32m--> 229\u001b[0m \u001b[39mraise\u001b[39;00m exception_class(message, screen, stacktrace)\n",
      "\u001b[1;31mNoSuchElementException\u001b[0m: Message: no such element: Unable to locate element: {\"method\":\"xpath\",\"selector\":\"//*[@id=\"1\"]\"}\n  (Session info: chrome=119.0.6045.160); For documentation on this error, please visit: https://www.selenium.dev/documentation/webdriver/troubleshooting/errors#no-such-element-exception\nStacktrace:\n\tGetHandleVerifier [0x004372A3+45731]\n\t(No symbol) [0x003C2D51]\n\t(No symbol) [0x002B880D]\n\t(No symbol) [0x002EB940]\n\t(No symbol) [0x002EBE0B]\n\t(No symbol) [0x0031D1F2]\n\t(No symbol) [0x00308024]\n\t(No symbol) [0x0031B7A2]\n\t(No symbol) [0x00307DD6]\n\t(No symbol) [0x002E31F6]\n\t(No symbol) [0x002E439D]\n\tGetHandleVerifier [0x00740716+3229462]\n\tGetHandleVerifier [0x007884C8+3523784]\n\tGetHandleVerifier [0x0078214C+3498316]\n\tGetHandleVerifier [0x004C1680+611968]\n\t(No symbol) [0x003CCCCC]\n\t(No symbol) [0x003C8DF8]\n\t(No symbol) [0x003C8F1D]\n\t(No symbol) [0x003BB2C7]\n\tBaseThreadInitThunk [0x767F7BA9+25]\n\tRtlInitializeExceptionChain [0x77B2BD2B+107]\n\tRtlClearBits [0x77B2BCAF+191]\n"
     ]
    }
   ],
   "source": [
    "driver.get(\"https://www.mvideo.ru/\") # открываем днс\n",
    "mvideo_search = driver.find_element(By.XPATH,'//*[@id=\"1\"]')\n",
    "\n",
    "mvideo_search.send_keys('iphone 11 128G')"
   ]
  },
  {
   "cell_type": "code",
   "execution_count": 8,
   "metadata": {},
   "outputs": [
    {
     "ename": "NameError",
     "evalue": "name 'mvideo_search' is not defined",
     "output_type": "error",
     "traceback": [
      "\u001b[1;31m---------------------------------------------------------------------------\u001b[0m",
      "\u001b[1;31mNameError\u001b[0m                                 Traceback (most recent call last)",
      "\u001b[1;32md:\\playground\\git_dir\\kursa4\\sale_maker.ipynb Ячейка 4\u001b[0m line \u001b[0;36m1\n\u001b[1;32m----> <a href='vscode-notebook-cell:/d%3A/playground/git_dir/kursa4/sale_maker.ipynb#W5sZmlsZQ%3D%3D?line=0'>1</a>\u001b[0m mvideo_search\n",
      "\u001b[1;31mNameError\u001b[0m: name 'mvideo_search' is not defined"
     ]
    }
   ],
   "source": [
    "mvideo_search"
   ]
  },
  {
   "cell_type": "code",
   "execution_count": 66,
   "metadata": {},
   "outputs": [
    {
     "data": {
      "text/plain": [
       "'Москва\\nМагазины\\nДоставка\\nБлог «М.Клик»\\nM.Club\\nДля бизнеса\\n8-800-600-7775\\nКаталог\\nСтатус заказа\\nВойти\\nСравнение\\nИзбранное\\nКорзина\\nВСЕ АКЦИИ\\nКЕШБЭК 22%\\nНОУТБУКИ\\nСМАРТФОН + КОЛОНКА\\nWYLSACOM РЕКОМЕНДУЕТ\\nХОЛОДИЛЬНИКИ\\nТЕЛЕВИЗОРЫ\\nPREMIUM\\nСТИРАЛЬНЫЕ МАШИНЫ\\nКРАСОТА И ЗДОРОВЬЕ\\nНайдено 1127 товаров в 7 категориях\\nСмартфоны 718\\nЗарядные устройства 16\\nЧехлы для телефонов 281\\nПленки и стекла для телефонов 106\\nФитнес-браслеты 3\\nДержатели для смартфонов 2\\nКлетки и обвесы 1\\nКатегория\\niPhone 460\\nБренд\\nApple 460\\nЦена\\nАкции\\nРассрочка 77\\nТовары со скидкой\\n99\\nТолько в наличии\\nСпособы получения\\nЗабрать через 15 минут\\nЗабрать из магазина по адресу\\nДоставить курьером\\nСерия iPhone\\niPhone 15 Pro Max 51\\niPhone 15 Pro 83\\niPhone 15 Plus 4\\niPhone 15 22\\niPhone 14 Pro Max 50\\niPhone 14 Pro 46\\niPhone 14 Plus 13\\niPhone 14 59\\niPhone 13 Pro Max 0\\niPhone 13 62\\niPhone 13 mini 0\\niPhone 12 Pro Max 0\\niPhone 12 Pro 0\\niPhone 12 9\\niPhone 12 mini 0\\niPhone 11 32\\niPhone Xr 0\\niPhone SE 8\\nСкрыть\\nДиагональ экрана\\nдо 4.9\" 9\\n5.1\" - 5.5\" 0\\n5.6\" - 6.1\" 333\\n6.6\" и более 118\\nВстроенная память\\nОперативная память\\nПоказать все фильтры\\nОчистить\\nСначала популярные\\nКешбэк 22%\\nСмартфон Apple iPhone 11 64GB nanoSim/eSim Black\\n4.7\\n53 отзыва\\n52 499 ₽\\n57 999\\n+11 550 Бонусных рублей\\nВ корзину\\nКешбэк 22%\\nСмартфон Apple iPhone 11 128GB nanoSim/eSim Black\\n4.9\\n83 отзыва\\n62 499 ₽\\n66 499\\n+13 750 Бонусных рублей\\nВ корзину\\nКешбэк 22%\\nСмартфон Apple iPhone 11 128GB nanoSim/eSim White\\n5.0\\n39 отзывов\\n62 499 ₽\\n66 499\\n+13 750 Бонусных рублей\\nВ корзину\\nСмартфон Apple iPhone 11 128GB Black\\n4.0\\n1 отзыв\\n69 990 ₽\\n+15 398 Бонусных рублей\\nВ корзину\\nИП Бирюзов Анатолий Иванович\\nЗащита техники\\nОсталась одна штука!\\nСмартфон Apple iPhone 11 64GB (MHCP3LL/A) черный\\n5.0\\n2 отзыва\\n58 490 ₽\\n+12 868 Бонусных рублей\\nВ корзину\\nИП Рацкевич Игорь Владимирович\\nНет в наличии\\nСмартфон Apple iPhone 11 128GB nanoSim/eSim White\\n5.0\\n1 отзыв\\nАналоги\\nИП Бирюзов Анатолий Иванович\\nНет в наличии\\nСмартфон Apple iPhone 11 64GB белый\\nнет отзывов\\nАналоги\\nИП Сушко Алексей Анатольевич\\nНет в наличии\\nСмартфон Apple iPhone 11 64GB Black\\nнет отзывов\\nАналоги\\nИП Бирюзов Анатолий Иванович\\nСмартфон Apple iPhone 11 128GB nanoSim/eSim White\\n5.0\\n1 отзыв\\n69 990 ₽\\n+15 398 Бонусных рублей\\nВ корзину\\nИП Бирюзов Евгений Анатольевич\\nСмартфон Apple iPhone 11 64GB nanoSim/eSim\\nнет отзывов\\n59 990 ₽\\n+13 198 Бонусных рублей\\nВ корзину\\nИП Бирюзов Евгений Анатольевич\\nСмартфон Apple iPhone 11 128GB Black\\nнет отзывов\\n69 990 ₽\\n+15 398 Бонусных рублей\\nВ корзину\\nИП Кулешова Евгения Евгеньевна\\nСмартфон Apple iPhone 11 128GB White\\nнет отзывов\\n69 990 ₽\\n+15 398 Бонусных рублей\\nВ корзину\\nИП Кулешова Евгения Евгеньевна\\nПоказать ещё\\n1\\n2\\n3\\n4\\n5\\n6\\n...\\n20\\nПоказывать по 24'"
      ]
     },
     "execution_count": 66,
     "metadata": {},
     "output_type": "execute_result"
    }
   ],
   "source": [
    "# driver.get('https://www.mvideo.ru/product-list-page?q=iphone 11')\n",
    "driver.find_element(By.CLASS_NAME,\n",
    "                    'ng-star-inserted'\n",
    "                    ).text"
   ]
  },
  {
   "cell_type": "code",
   "execution_count": 12,
   "metadata": {},
   "outputs": [],
   "source": [
    "# driver.execute_script(\"window.open('chrome://newtab');\")\n",
    "\n",
    "driver.switch_to.window(driver.window_handles[-1])\n",
    "\n",
    "driver.get('https://www.mvideo.ru/')\n"
   ]
  }
 ],
 "metadata": {
  "kernelspec": {
   "display_name": "base",
   "language": "python",
   "name": "python3"
  },
  "language_info": {
   "codemirror_mode": {
    "name": "ipython",
    "version": 3
   },
   "file_extension": ".py",
   "mimetype": "text/x-python",
   "name": "python",
   "nbconvert_exporter": "python",
   "pygments_lexer": "ipython3",
   "version": "3.10.11"
  }
 },
 "nbformat": 4,
 "nbformat_minor": 2
}
